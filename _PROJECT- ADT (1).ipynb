{
 "cells": [
  {
   "cell_type": "markdown",
   "id": "c47f8572",
   "metadata": {},
   "source": [
    "# Augmenting paths using variations of Dijkstra Algorithms\n"
   ]
  },
  {
   "cell_type": "markdown",
   "id": "61d74492",
   "metadata": {},
   "source": [
    " GENERATING GRAPH AND ASSIGNING SOURCE AND SINK TO IT"
   ]
  },
  {
   "cell_type": "code",
   "execution_count": 20,
   "id": "1400d6bc",
   "metadata": {},
   "outputs": [],
   "source": [
    "import random\n",
    "import math\n",
    "from queue import Queue\n",
    "from heapq import heappush, heappop\n",
    "import heapq"
   ]
  },
  {
   "cell_type": "code",
   "execution_count": 4,
   "id": "51858123",
   "metadata": {},
   "outputs": [],
   "source": [
    "def generate_sink_source_graph(n, r, upperCap):\n",
    "    # Initialize vertices with random coordinates\n",
    "    V = [{'x': random.uniform(0, 1), 'y': random.uniform(0, 1)} for _ in range(n)]\n",
    "    \n",
    "    E = set()\n",
    "\n",
    "    # Edges based on distance and randomly choose direction\n",
    "    for i in range(n):\n",
    "        for j in range(n):\n",
    "            if i != j:\n",
    "                distance = math.sqrt((V[i]['x'] - V[j]['x'])**2 + (V[i]['y'] - V[j]['y'])**2)\n",
    "                if distance <= r:\n",
    "                    if random.random() < 0.5:\n",
    "                        if ((i, j) not in E) and ((j, i) not in E):\n",
    "                            E.add((i, j))\n",
    "                    else:\n",
    "                        if ((j, i) not in E) and ((i, j) not in E):\n",
    "                            E.add((j, i))\n",
    "\n",
    "    \n",
    "    capacities = {edge: random.randint(1, upperCap) for edge in E}\n",
    "\n",
    "    source = random.randint(0, n-1)\n",
    "\n",
    "    # Breadth-first search to find the longest acyclic path\n",
    "    def bfs_longest_path(src):\n",
    "        visited = [False] * n\n",
    "        queue = Queue()\n",
    "        queue.put((src, [src]))\n",
    "\n",
    "        longest_path = []\n",
    "        while not queue.empty():\n",
    "            current_node, path = queue.get()\n",
    "            visited[current_node] = True\n",
    "\n",
    "            for neighbor in [edge[1] for edge in E if edge[0] == current_node]:\n",
    "                if not visited[neighbor]:\n",
    "                    new_path = path + [neighbor]\n",
    "                    queue.put((neighbor, new_path))\n",
    "                    if len(new_path) > len(longest_path):\n",
    "                        longest_path = new_path\n",
    "\n",
    "        return longest_path\n",
    "\n",
    "    longest_path = bfs_longest_path(source)\n",
    "    sink = longest_path[-1] if longest_path else None\n",
    "\n",
    "    return V, E, capacities, source, sink, longest_path\n",
    "\n"
   ]
  },
  {
   "cell_type": "code",
   "execution_count": 5,
   "id": "6aa1155f",
   "metadata": {},
   "outputs": [],
   "source": [
    "def save_graph_to_csv(graph, filename, source, sink):\n",
    "    with open(filename, 'w', newline='') as csvfile:\n",
    "        writer = csv.writer(csvfile)\n",
    "        for edge in graph.edges:\n",
    "            writer.writerow([edge.start, edge.end, edge.capacity])\n",
    "\n",
    "def read_graph_from_csv(filename):\n",
    "    with open(filename, 'r') as csvfile:\n",
    "        reader = csv.reader(csvfile)\n",
    "        graph = defaultdict(lambda: defaultdict(int))\n",
    "        for row in reader:\n",
    "            start, end, capacity = map(int, row)\n",
    "            graph[start][end] = capacity\n",
    "    return graph"
   ]
  },
  {
   "cell_type": "markdown",
   "id": "b03d9a6d",
   "metadata": {},
   "source": [
    "BFS algorithm for Augmenting Paths\n"
   ]
  },
  {
   "cell_type": "code",
   "execution_count": 6,
   "id": "2c95e487",
   "metadata": {},
   "outputs": [],
   "source": [
    "def bfs_for_augmenting_path(graph, capacities, flow, start, end):\n",
    "    parent = [-1] * len(graph)  # Store the augmenting path\n",
    "    visited = [False] * len(graph)\n",
    "    queue = Queue()\n",
    "\n",
    "    queue.put(start)\n",
    "    visited[start] = True\n",
    "\n",
    "    while not queue.empty():\n",
    "        u = queue.get()\n",
    "\n",
    "        for v in range(len(graph)):\n",
    "            if not visited[v] and (capacities.get((u, v), 0) - flow[u][v] > 0):\n",
    "                queue.put(v)\n",
    "                visited[v] = True\n",
    "                parent[v] = u\n",
    "\n",
    "    return parent, visited[end]"
   ]
  },
  {
   "cell_type": "markdown",
   "id": "570962e7",
   "metadata": {},
   "source": [
    "Ford Fulkerson Algorithm "
   ]
  },
  {
   "cell_type": "code",
   "execution_count": 8,
   "id": "4da03517",
   "metadata": {},
   "outputs": [],
   "source": [
    "def ford_fulkerson(graph, capacities, source, sink):\n",
    "    n = len(graph)\n",
    "    flow = [[0 for _ in range(n)] for _ in range(n)]  # Initialize flow matrix\n",
    "\n",
    "    max_flow = 0\n",
    "    while True:\n",
    "        parent, found_augmenting_path = bfs_for_augmenting_path(graph, capacities, flow, source, sink)\n",
    "\n",
    "        if not found_augmenting_path:\n",
    "            break\n",
    "\n",
    "        # Find minimum residual capacity along the augmenting path\n",
    "        path_flow = float('inf')\n",
    "        s = sink\n",
    "        while s != source:\n",
    "            path_flow = min(path_flow, capacities.get((parent[s], s), 0) - flow[parent[s]][s])\n",
    "            s = parent[s]\n",
    "\n",
    "        # Update flow for edges and reverse edges\n",
    "        v = sink\n",
    "        while v != source:\n",
    "            u = parent[v]\n",
    "            flow[u][v] += path_flow\n",
    "            flow[v][u] -= path_flow\n",
    "            v = parent[v]\n",
    "\n",
    "        max_flow += path_flow\n",
    "\n",
    "    return max_flow\n",
    "\n"
   ]
  },
  {
   "cell_type": "markdown",
   "id": "36b9e08d",
   "metadata": {},
   "source": [
    "Augmenting Paths using Shortest Augmenting Path Algorithm"
   ]
  },
  {
   "cell_type": "code",
   "execution_count": 11,
   "id": "f0c0b57d",
   "metadata": {},
   "outputs": [],
   "source": [
    "def dijkstra_sap(graph, capacities, flow, source, sink):\n",
    "    n = len(graph)\n",
    "    dist = [float('inf')] * n\n",
    "    dist[source] = 0\n",
    "    parent = [-1] * n\n",
    "    heap = [(0, source)]\n",
    "\n",
    "    while heap:\n",
    "        d, u = heappop(heap)\n",
    "\n",
    "        if u == sink:\n",
    "            break\n",
    "\n",
    "        for v in range(n):\n",
    "            # Check for edge in residual graph\n",
    "            if capacities.get((u, v), 0) - flow[u][v] > 0:\n",
    "                # If we can improve the distance to v, update it\n",
    "                if dist[u] + 1 < dist[v]:\n",
    "                    dist[v] = dist[u] + 1\n",
    "                    parent[v] = u\n",
    "                    heappush(heap, (dist[v], v))\n",
    "\n",
    "    return parent, dist[sink] != float('inf')\n",
    "\n",
    "\n",
    "def ford_fulkerson_sap(graph, capacities, source, sink, longest_path_length):\n",
    "    n = len(graph)\n",
    "    flow = [[0 for _ in range(n)] for _ in range(n)]\n",
    "    paths = 0\n",
    "    total_path_length = 0\n",
    "    max_flow = 0\n",
    "\n",
    "    while True:\n",
    "        parent, found = dijkstra_sap(graph, capacities, flow, source, sink)\n",
    "\n",
    "        if not found:\n",
    "            break\n",
    "\n",
    "        path_flow = float('inf')\n",
    "        s = sink\n",
    "        path_length = 0\n",
    "        while s != source:\n",
    "            path_flow = min(path_flow, capacities.get((parent[s], s), 0) - flow[parent[s]][s])\n",
    "            s = parent[s]\n",
    "            path_length += 1\n",
    "\n",
    "        v = sink\n",
    "        while v != source:\n",
    "            u = parent[v]\n",
    "            flow[u][v] += path_flow\n",
    "            flow[v][u] -= path_flow\n",
    "            v = parent[v]\n",
    "\n",
    "        max_flow += path_flow\n",
    "        paths += 1\n",
    "        total_path_length += path_length\n",
    "\n",
    "    mean_length = total_path_length / paths if paths > 0 else 0\n",
    "    total_edges = len(capacities)\n",
    "    mpl = (total_path_length / paths) / longest_path_length if paths > 0 else 0\n",
    "    return max_flow, paths, mean_length, total_edges, mpl"
   ]
  },
  {
   "cell_type": "code",
   "execution_count": 12,
   "id": "e8566c67",
   "metadata": {},
   "outputs": [
    {
     "name": "stdout",
     "output_type": "stream",
     "text": [
      "Maximum Flow: 4\n",
      "Number of Augmenting Paths: 4\n",
      "Average Length of Augmenting Paths: 10.5\n",
      "Mean Proportional Length (MPL): 0.9545454545454546\n",
      "Total Number of Edges: 522\n"
     ]
    }
   ],
   "source": [
    "V, E, capacities, source, sink, longest_path = generate_sink_source_graph(100, 0.2, 2)\n",
    "longest_path_length = len(longest_path)\n",
    "max_flow, paths, mean_length, total_edges, mpl = ford_fulkerson_sap(V, capacities, source, sink, longest_path_length)\n",
    "print(\"Maximum Flow:\", max_flow)\n",
    "print(\"Number of Augmenting Paths:\", paths)\n",
    "print(\"Average Length of Augmenting Paths:\", mean_length)\n",
    "print(\"Mean Proportional Length (MPL):\", mpl)\n",
    "print(\"Total Number of Edges:\", total_edges)"
   ]
  },
  {
   "cell_type": "code",
   "execution_count": 13,
   "id": "dd9ac98a",
   "metadata": {},
   "outputs": [
    {
     "name": "stdout",
     "output_type": "stream",
     "text": [
      "Maximum Flow: 7\n",
      "Number of Augmenting Paths: 7\n",
      "Average Length of Augmenting Paths: 6.0\n",
      "Mean Proportional Length (MPL): 0.75\n",
      "Total Number of Edges: 2120\n"
     ]
    }
   ],
   "source": [
    "V, E, capacities, source, sink, longest_path = generate_sink_source_graph(200, 0.2, 2)\n",
    "longest_path_length = len(longest_path)\n",
    "max_flow, paths, mean_length, total_edges, mpl = ford_fulkerson_sap(V, capacities, source, sink, longest_path_length)\n",
    "print(\"Maximum Flow:\", max_flow)\n",
    "print(\"Number of Augmenting Paths:\", paths)\n",
    "print(\"Average Length of Augmenting Paths:\", mean_length)\n",
    "print(\"Mean Proportional Length (MPL):\", mpl)\n",
    "print(\"Total Number of Edges:\", total_edges)"
   ]
  },
  {
   "cell_type": "code",
   "execution_count": 14,
   "id": "b344e86f",
   "metadata": {},
   "outputs": [
    {
     "name": "stdout",
     "output_type": "stream",
     "text": [
      "Maximum Flow: 5\n",
      "Number of Augmenting Paths: 5\n",
      "Average Length of Augmenting Paths: 6.4\n",
      "Mean Proportional Length (MPL): 0.8\n",
      "Total Number of Edges: 987\n"
     ]
    }
   ],
   "source": [
    "V, E, capacities, source, sink, longest_path = generate_sink_source_graph(100, 0.3, 2)\n",
    "longest_path_length = len(longest_path)\n",
    "max_flow, paths, mean_length, total_edges, mpl = ford_fulkerson_sap(V, capacities, source, sink, longest_path_length)\n",
    "print(\"Maximum Flow:\", max_flow)\n",
    "print(\"Number of Augmenting Paths:\", paths)\n",
    "print(\"Average Length of Augmenting Paths:\", mean_length)\n",
    "print(\"Mean Proportional Length (MPL):\", mpl)\n",
    "print(\"Total Number of Edges:\", total_edges)"
   ]
  },
  {
   "cell_type": "code",
   "execution_count": 15,
   "id": "0789211f",
   "metadata": {},
   "outputs": [
    {
     "name": "stdout",
     "output_type": "stream",
     "text": [
      "Maximum Flow: 25\n",
      "Number of Augmenting Paths: 23\n",
      "Average Length of Augmenting Paths: 4.6521739130434785\n",
      "Mean Proportional Length (MPL): 0.7753623188405797\n",
      "Total Number of Edges: 4392\n"
     ]
    }
   ],
   "source": [
    "V, E, capacities, source, sink, longest_path = generate_sink_source_graph(200, 0.3, 2)\n",
    "longest_path_length = len(longest_path)\n",
    "max_flow, paths, mean_length, total_edges, mpl = ford_fulkerson_sap(V, capacities, source, sink, longest_path_length)\n",
    "print(\"Maximum Flow:\", max_flow)\n",
    "print(\"Number of Augmenting Paths:\", paths)\n",
    "print(\"Average Length of Augmenting Paths:\", mean_length)\n",
    "print(\"Mean Proportional Length (MPL):\", mpl)\n",
    "print(\"Total Number of Edges:\", total_edges)"
   ]
  },
  {
   "cell_type": "code",
   "execution_count": 16,
   "id": "14979d5f",
   "metadata": {},
   "outputs": [
    {
     "name": "stdout",
     "output_type": "stream",
     "text": [
      "Maximum Flow: 26\n",
      "Number of Augmenting Paths: 6\n",
      "Average Length of Augmenting Paths: 12.166666666666666\n",
      "Mean Proportional Length (MPL): 0.869047619047619\n",
      "Total Number of Edges: 517\n"
     ]
    }
   ],
   "source": [
    "V, E, capacities, source, sink, longest_path = generate_sink_source_graph(100, 0.2, 50)\n",
    "longest_path_length = len(longest_path)\n",
    "max_flow, paths, mean_length, total_edges, mpl = ford_fulkerson_sap(V, capacities, source, sink, longest_path_length)\n",
    "print(\"Maximum Flow:\", max_flow)\n",
    "print(\"Number of Augmenting Paths:\", paths)\n",
    "print(\"Average Length of Augmenting Paths:\", mean_length)\n",
    "print(\"Mean Proportional Length (MPL):\", mpl)\n",
    "print(\"Total Number of Edges:\", total_edges)"
   ]
  },
  {
   "cell_type": "code",
   "execution_count": 17,
   "id": "1653f5d3",
   "metadata": {},
   "outputs": [
    {
     "name": "stdout",
     "output_type": "stream",
     "text": [
      "Maximum Flow: 203\n",
      "Number of Augmenting Paths: 25\n",
      "Average Length of Augmenting Paths: 5.84\n",
      "Mean Proportional Length (MPL): 0.9733333333333333\n",
      "Total Number of Edges: 2170\n"
     ]
    }
   ],
   "source": [
    "V, E, capacities, source, sink, longest_path = generate_sink_source_graph(200, 0.2, 50)\n",
    "longest_path_length = len(longest_path)\n",
    "max_flow, paths, mean_length, total_edges, mpl = ford_fulkerson_sap(V, capacities, source, sink, longest_path_length)\n",
    "print(\"Maximum Flow:\", max_flow)\n",
    "print(\"Number of Augmenting Paths:\", paths)\n",
    "print(\"Average Length of Augmenting Paths:\", mean_length)\n",
    "print(\"Mean Proportional Length (MPL):\", mpl)\n",
    "print(\"Total Number of Edges:\", total_edges)"
   ]
  },
  {
   "cell_type": "code",
   "execution_count": 18,
   "id": "ee6cb144",
   "metadata": {},
   "outputs": [
    {
     "name": "stdout",
     "output_type": "stream",
     "text": [
      "Maximum Flow: 181\n",
      "Number of Augmenting Paths: 31\n",
      "Average Length of Augmenting Paths: 6.354838709677419\n",
      "Mean Proportional Length (MPL): 0.9078341013824884\n",
      "Total Number of Edges: 1141\n"
     ]
    }
   ],
   "source": [
    "V, E, capacities, source, sink, longest_path = generate_sink_source_graph(100, 0.3, 50)\n",
    "longest_path_length = len(longest_path)\n",
    "max_flow, paths, mean_length, total_edges, mpl = ford_fulkerson_sap(V, capacities, source, sink, longest_path_length)\n",
    "print(\"Maximum Flow:\", max_flow)\n",
    "print(\"Number of Augmenting Paths:\", paths)\n",
    "print(\"Average Length of Augmenting Paths:\", mean_length)\n",
    "print(\"Mean Proportional Length (MPL):\", mpl)\n",
    "print(\"Total Number of Edges:\", total_edges)"
   ]
  },
  {
   "cell_type": "code",
   "execution_count": 19,
   "id": "2a57980e",
   "metadata": {},
   "outputs": [
    {
     "name": "stdout",
     "output_type": "stream",
     "text": [
      "Maximum Flow: 493\n",
      "Number of Augmenting Paths: 57\n",
      "Average Length of Augmenting Paths: 3.8596491228070176\n",
      "Mean Proportional Length (MPL): 0.7719298245614035\n",
      "Total Number of Edges: 4142\n"
     ]
    }
   ],
   "source": [
    "V, E, capacities, source, sink, longest_path = generate_sink_source_graph(200, 0.3, 50)\n",
    "longest_path_length = len(longest_path)\n",
    "max_flow, paths, mean_length, total_edges, mpl = ford_fulkerson_sap(V, capacities, source, sink, longest_path_length)\n",
    "print(\"Maximum Flow:\", max_flow)\n",
    "print(\"Number of Augmenting Paths:\", paths)\n",
    "print(\"Average Length of Augmenting Paths:\", mean_length)\n",
    "print(\"Mean Proportional Length (MPL):\", mpl)\n",
    "print(\"Total Number of Edges:\", total_edges)"
   ]
  },
  {
   "cell_type": "markdown",
   "id": "816d110e",
   "metadata": {},
   "source": [
    "Augmenting Path using DFS like algorithm "
   ]
  },
  {
   "cell_type": "code",
   "execution_count": 21,
   "id": "83a92696",
   "metadata": {},
   "outputs": [],
   "source": [
    "def dfs_like_augmenting_path(graph, capacities, flow, start, end):\n",
    "    n = len(graph)\n",
    "    dist = [float('inf')] * n\n",
    "    dist[start] = 0\n",
    "    parent = [-1] * n\n",
    "    heap = [(0, start)]\n",
    "    counter = -1  # Decreasing counter for DFS-like behavior\n",
    "\n",
    "    while heap:\n",
    "        _, u = heapq.heappop(heap)\n",
    "\n",
    "        for v in range(n):\n",
    "            if capacities.get((u, v), 0) - flow[u][v] > 0:\n",
    "                if dist[v] == float('inf'):\n",
    "                    dist[v] = counter\n",
    "                    counter -= 1\n",
    "                    parent[v] = u\n",
    "                    heapq.heappush(heap, (dist[v], v))\n",
    "\n",
    "    return parent, dist[end] != float('inf')\n",
    "\n",
    "def ford_fulkerson_dfs_like(graph, capacities, source, sink, longest_path_length):\n",
    "    n = len(graph)\n",
    "    flow = [[0 for _ in range(n)] for _ in range(n)]\n",
    "    paths = 0\n",
    "    total_path_length = 0\n",
    "    max_flow = 0\n",
    "\n",
    "    while True:\n",
    "        parent, found = dfs_like_augmenting_path(graph, capacities, flow, source, sink)\n",
    "\n",
    "        if not found:\n",
    "            break\n",
    "\n",
    "        path_flow = float('inf')\n",
    "        s = sink\n",
    "        path_length = 0\n",
    "        while s != source:\n",
    "            path_flow = min(path_flow, capacities.get((parent[s], s), 0) - flow[parent[s]][s])\n",
    "            s = parent[s]\n",
    "            path_length += 1\n",
    "\n",
    "        v = sink\n",
    "        while v != source:\n",
    "            u = parent[v]\n",
    "            flow[u][v] += path_flow\n",
    "            flow[v][u] -= path_flow\n",
    "            v = parent[v]\n",
    "\n",
    "        max_flow += path_flow\n",
    "        paths += 1\n",
    "        total_path_length += path_length\n",
    "\n",
    "    mean_length = total_path_length / paths if paths > 0 else 0\n",
    "    mpl = mean_length / longest_path_length if longest_path_length > 0 else 0\n",
    "    total_edges = len(capacities)\n",
    "    return max_flow, paths, mean_length, mpl, total_edges"
   ]
  },
  {
   "cell_type": "code",
   "execution_count": 72,
   "id": "13863074",
   "metadata": {},
   "outputs": [
    {
     "name": "stdout",
     "output_type": "stream",
     "text": [
      "Maximum Flow: 2\n",
      "Number of Augmenting Paths: 2\n",
      "Average Length of Augmenting Paths (ML): 17.5\n",
      "Mean Proportional Length (MPL): 1.5909090909090908\n",
      "Total Number of Edges: 573\n"
     ]
    }
   ],
   "source": [
    "V, E, capacities, source, sink, longest_path = generate_sink_source_graph(100, 0.2, 2)\n",
    "longest_path_length = len(longest_path)\n",
    "max_flow, paths, mean_length, mpl, total_edges = ford_fulkerson_dfs_like(V, capacities, source, sink, longest_path_length)\n",
    "print(\"Maximum Flow:\", max_flow)\n",
    "print(\"Number of Augmenting Paths:\", paths)\n",
    "print(\"Average Length of Augmenting Paths (ML):\", mean_length)\n",
    "print(\"Mean Proportional Length (MPL):\", mpl)\n",
    "print(\"Total Number of Edges:\", total_edges)"
   ]
  },
  {
   "cell_type": "code",
   "execution_count": 73,
   "id": "55012f7d",
   "metadata": {},
   "outputs": [
    {
     "name": "stdout",
     "output_type": "stream",
     "text": [
      "Maximum Flow: 6\n",
      "Number of Augmenting Paths: 6\n",
      "Average Length of Augmenting Paths (ML): 24.166666666666668\n",
      "Mean Proportional Length (MPL): 2.416666666666667\n",
      "Total Number of Edges: 1989\n"
     ]
    }
   ],
   "source": [
    "V, E, capacities, source, sink, longest_path = generate_sink_source_graph(200, 0.2, 2)\n",
    "longest_path_length = len(longest_path)\n",
    "max_flow, paths, mean_length, mpl, total_edges = ford_fulkerson_dfs_like(V, capacities, source, sink, longest_path_length)\n",
    "print(\"Maximum Flow:\", max_flow)\n",
    "print(\"Number of Augmenting Paths:\", paths)\n",
    "print(\"Average Length of Augmenting Paths (ML):\", mean_length)\n",
    "print(\"Mean Proportional Length (MPL):\", mpl)\n",
    "print(\"Total Number of Edges:\", total_edges)"
   ]
  },
  {
   "cell_type": "code",
   "execution_count": 25,
   "id": "97fc3624",
   "metadata": {},
   "outputs": [
    {
     "name": "stdout",
     "output_type": "stream",
     "text": [
      "Maximum Flow: 16\n",
      "Number of Augmenting Paths: 16\n",
      "Average Length of Augmenting Paths (ML): 14.875\n",
      "Mean Proportional Length (MPL): 2.4791666666666665\n",
      "Total Number of Edges: 996\n"
     ]
    }
   ],
   "source": [
    "V, E, capacities, source, sink, longest_path = generate_sink_source_graph(100, 0.3, 2)\n",
    "longest_path_length = len(longest_path)\n",
    "max_flow, paths, mean_length, total_edges, mpl = ford_fulkerson_sap(V, capacities, source, sink, longest_path_length)\n",
    "longest_path_length = len(longest_path)\n",
    "max_flow, paths, mean_length, mpl, total_edges = ford_fulkerson_dfs_like(V, capacities, source, sink, longest_path_length)\n",
    "print(\"Maximum Flow:\", max_flow)\n",
    "print(\"Number of Augmenting Paths:\", paths)\n",
    "print(\"Average Length of Augmenting Paths (ML):\", mean_length)\n",
    "print(\"Mean Proportional Length (MPL):\", mpl)\n",
    "print(\"Total Number of Edges:\", total_edges)"
   ]
  },
  {
   "cell_type": "code",
   "execution_count": 74,
   "id": "291bf308",
   "metadata": {},
   "outputs": [
    {
     "name": "stdout",
     "output_type": "stream",
     "text": [
      "Maximum Flow: 4\n",
      "Number of Augmenting Paths: 4\n",
      "Average Length of Augmenting Paths (ML): 36.5\n",
      "Mean Proportional Length (MPL): 3.65\n",
      "Total Number of Edges: 2034\n"
     ]
    }
   ],
   "source": [
    "V, E, capacities, source, sink, longest_path = generate_sink_source_graph(200, 0.2, 2)\n",
    "longest_path_length = len(longest_path)\n",
    "max_flow, paths, mean_length, mpl, total_edges = ford_fulkerson_dfs_like(V, capacities, source, sink, longest_path_length)\n",
    "print(\"Maximum Flow:\", max_flow)\n",
    "print(\"Number of Augmenting Paths:\", paths)\n",
    "print(\"Average Length of Augmenting Paths (ML):\", mean_length)\n",
    "print(\"Mean Proportional Length (MPL):\", mpl)\n",
    "print(\"Total Number of Edges:\", total_edges)"
   ]
  },
  {
   "cell_type": "code",
   "execution_count": 75,
   "id": "5502431e",
   "metadata": {},
   "outputs": [
    {
     "name": "stdout",
     "output_type": "stream",
     "text": [
      "Maximum Flow: 27\n",
      "Number of Augmenting Paths: 10\n",
      "Average Length of Augmenting Paths (ML): 24.9\n",
      "Mean Proportional Length (MPL): 1.9153846153846152\n",
      "Total Number of Edges: 481\n"
     ]
    }
   ],
   "source": [
    "V, E, capacities, source, sink, longest_path = generate_sink_source_graph(100, 0.2, 50)\n",
    "longest_path_length = len(longest_path)\n",
    "max_flow, paths, mean_length, mpl, total_edges = ford_fulkerson_dfs_like(V, capacities, source, sink, longest_path_length)\n",
    "print(\"Maximum Flow:\", max_flow)\n",
    "print(\"Number of Augmenting Paths:\", paths)\n",
    "print(\"Average Length of Augmenting Paths (ML):\", mean_length)\n",
    "print(\"Mean Proportional Length (MPL):\", mpl)\n",
    "print(\"Total Number of Edges:\", total_edges)"
   ]
  },
  {
   "cell_type": "code",
   "execution_count": 76,
   "id": "c27e0c9b",
   "metadata": {},
   "outputs": [
    {
     "name": "stdout",
     "output_type": "stream",
     "text": [
      "Maximum Flow: 274\n",
      "Number of Augmenting Paths: 182\n",
      "Average Length of Augmenting Paths (ML): 26.576923076923077\n",
      "Mean Proportional Length (MPL): 3.3221153846153846\n",
      "Total Number of Edges: 2022\n"
     ]
    }
   ],
   "source": [
    "V, E, capacities, source, sink, longest_path = generate_sink_source_graph(200, 0.2, 50)\n",
    "longest_path_length = len(longest_path)\n",
    "max_flow, paths, mean_length, mpl, total_edges = ford_fulkerson_dfs_like(V, capacities, source, sink, longest_path_length)\n",
    "print(\"Maximum Flow:\", max_flow)\n",
    "print(\"Number of Augmenting Paths:\", paths)\n",
    "print(\"Average Length of Augmenting Paths (ML):\", mean_length)\n",
    "print(\"Mean Proportional Length (MPL):\", mpl)\n",
    "print(\"Total Number of Edges:\", total_edges)"
   ]
  },
  {
   "cell_type": "code",
   "execution_count": 77,
   "id": "987f1bcd",
   "metadata": {},
   "outputs": [
    {
     "name": "stdout",
     "output_type": "stream",
     "text": [
      "Maximum Flow: 84\n",
      "Number of Augmenting Paths: 23\n",
      "Average Length of Augmenting Paths (ML): 11.565217391304348\n",
      "Mean Proportional Length (MPL): 1.6521739130434783\n",
      "Total Number of Edges: 1058\n"
     ]
    }
   ],
   "source": [
    "V, E, capacities, source, sink, longest_path = generate_sink_source_graph(100, 0.3, 50)\n",
    "longest_path_length = len(longest_path)\n",
    "max_flow, paths, mean_length, mpl, total_edges = ford_fulkerson_dfs_like(V, capacities, source, sink, longest_path_length)\n",
    "print(\"Maximum Flow:\", max_flow)\n",
    "print(\"Number of Augmenting Paths:\", paths)\n",
    "print(\"Average Length of Augmenting Paths (ML):\", mean_length)\n",
    "print(\"Mean Proportional Length (MPL):\", mpl)\n",
    "print(\"Total Number of Edges:\", total_edges)"
   ]
  },
  {
   "cell_type": "code",
   "execution_count": 78,
   "id": "fecc1659",
   "metadata": {},
   "outputs": [
    {
     "name": "stdout",
     "output_type": "stream",
     "text": [
      "Maximum Flow: 297\n",
      "Number of Augmenting Paths: 142\n",
      "Average Length of Augmenting Paths (ML): 18.471830985915492\n",
      "Mean Proportional Length (MPL): 2.6388329979879273\n",
      "Total Number of Edges: 4260\n"
     ]
    }
   ],
   "source": [
    "V, E, capacities, source, sink, longest_path = generate_sink_source_graph(200, 0.3, 50)\n",
    "longest_path_length = len(longest_path)\n",
    "max_flow, paths, mean_length, mpl, total_edges = ford_fulkerson_dfs_like(V, capacities, source, sink, longest_path_length)\n",
    "print(\"Maximum Flow:\", max_flow)\n",
    "print(\"Number of Augmenting Paths:\", paths)\n",
    "print(\"Average Length of Augmenting Paths (ML):\", mean_length)\n",
    "print(\"Mean Proportional Length (MPL):\", mpl)\n",
    "print(\"Total Number of Edges:\", total_edges)"
   ]
  },
  {
   "cell_type": "markdown",
   "id": "2082fdd3",
   "metadata": {},
   "source": [
    "Augmenting Path using Maximum Cpacity"
   ]
  },
  {
   "cell_type": "code",
   "execution_count": 31,
   "id": "b21b645b",
   "metadata": {},
   "outputs": [],
   "source": [
    "def maxcap_augmenting_path(graph, capacities, flow, start, end):\n",
    "    n = len(graph)\n",
    "    max_capacity = [0] * n\n",
    "    max_capacity[start] = float('inf')\n",
    "    parent = [-1] * n\n",
    "    heap = [(-max_capacity[start], start)]\n",
    "\n",
    "    while heap:\n",
    "        _, u = heapq.heappop(heap)\n",
    "\n",
    "        for v in range(n):\n",
    "            if capacities.get((u, v), 0) - flow[u][v] > 0:\n",
    "                path_capacity = min(max_capacity[u], capacities.get((u, v), 0) - flow[u][v])\n",
    "                if path_capacity > max_capacity[v]:\n",
    "                    max_capacity[v] = path_capacity\n",
    "                    parent[v] = u\n",
    "                    heapq.heappush(heap, (-max_capacity[v], v))\n",
    "\n",
    "    return parent, max_capacity[end] > 0\n",
    "\n",
    "def ford_fulkerson_maxcap(graph, capacities, source, sink, longest_path_length):\n",
    "    n = len(graph)\n",
    "    flow = [[0 for _ in range(n)] for _ in range(n)]\n",
    "    paths = 0\n",
    "    total_path_length = 0\n",
    "    max_flow = 0\n",
    "\n",
    "    while True:\n",
    "        parent, found = maxcap_augmenting_path(graph, capacities, flow, source, sink)\n",
    "\n",
    "        if not found:\n",
    "            break\n",
    "\n",
    "        path_flow = float('inf')\n",
    "        s = sink\n",
    "        path_length = 0\n",
    "        while s != source:\n",
    "            path_flow = min(path_flow, capacities.get((parent[s], s), 0) - flow[parent[s]][s])\n",
    "            s = parent[s]\n",
    "            path_length += 1\n",
    "\n",
    "        v = sink\n",
    "        while v != source:\n",
    "            u = parent[v]\n",
    "            flow[u][v] += path_flow\n",
    "            flow[v][u] -= path_flow\n",
    "            v = parent[v]\n",
    "\n",
    "        max_flow += path_flow\n",
    "        paths += 1\n",
    "        total_path_length += path_length\n",
    "\n",
    "    mean_length = total_path_length / paths if paths > 0 else 0\n",
    "    mpl = mean_length / longest_path_length if longest_path_length > 0 else 0\n",
    "    total_edges = len(capacities)\n",
    "    return max_flow, paths, mean_length, mpl, total_edges\n"
   ]
  },
  {
   "cell_type": "code",
   "execution_count": 79,
   "id": "34a7bdf3",
   "metadata": {},
   "outputs": [
    {
     "name": "stdout",
     "output_type": "stream",
     "text": [
      "Maximum Flow: 2\n",
      "Number of Augmenting Paths: 2\n",
      "Average Length of Augmenting Paths (ML): 14.5\n",
      "Mean Proportional Length (MPL): 1.2083333333333333\n",
      "Total Number of Edges: 603\n"
     ]
    }
   ],
   "source": [
    "V, E, capacities, source, sink, longest_path = generate_sink_source_graph(100, 0.2, 2)\n",
    "longest_path_length = len(longest_path)\n",
    "max_flow, paths, mean_length, mpl, total_edges = ford_fulkerson_maxcap(V, capacities, source, sink, longest_path_length)\n",
    "print(\"Maximum Flow:\", max_flow)\n",
    "print(\"Number of Augmenting Paths:\", paths)\n",
    "print(\"Average Length of Augmenting Paths (ML):\", mean_length)\n",
    "print(\"Mean Proportional Length (MPL):\", mpl)\n",
    "print(\"Total Number of Edges:\", total_edges)"
   ]
  },
  {
   "cell_type": "code",
   "execution_count": 80,
   "id": "e0e58d35",
   "metadata": {},
   "outputs": [
    {
     "name": "stdout",
     "output_type": "stream",
     "text": [
      "Maximum Flow: 10\n",
      "Number of Augmenting Paths: 6\n",
      "Average Length of Augmenting Paths (ML): 10.833333333333334\n",
      "Mean Proportional Length (MPL): 1.5476190476190477\n",
      "Total Number of Edges: 2132\n"
     ]
    }
   ],
   "source": [
    "V, E, capacities, source, sink, longest_path = generate_sink_source_graph(200, 0.2, 2)\n",
    "longest_path_length = len(longest_path)\n",
    "max_flow, paths, mean_length, mpl, total_edges = ford_fulkerson_maxcap(V, capacities, source, sink, longest_path_length)\n",
    "print(\"Maximum Flow:\", max_flow)\n",
    "print(\"Number of Augmenting Paths:\", paths)\n",
    "print(\"Average Length of Augmenting Paths (ML):\", mean_length)\n",
    "print(\"Mean Proportional Length (MPL):\", mpl)\n",
    "print(\"Total Number of Edges:\", total_edges)"
   ]
  },
  {
   "cell_type": "code",
   "execution_count": 81,
   "id": "712f78c5",
   "metadata": {},
   "outputs": [
    {
     "name": "stdout",
     "output_type": "stream",
     "text": [
      "Maximum Flow: 7\n",
      "Number of Augmenting Paths: 5\n",
      "Average Length of Augmenting Paths (ML): 9.0\n",
      "Mean Proportional Length (MPL): 1.5\n",
      "Total Number of Edges: 1140\n"
     ]
    }
   ],
   "source": [
    "V, E, capacities, source, sink, longest_path = generate_sink_source_graph(100, 0.3, 2)\n",
    "longest_path_length = len(longest_path)\n",
    "max_flow, paths, mean_length, mpl, total_edges = ford_fulkerson_maxcap(V, capacities, source, sink, longest_path_length)\n",
    "print(\"Maximum Flow:\", max_flow)\n",
    "print(\"Number of Augmenting Paths:\", paths)\n",
    "print(\"Average Length of Augmenting Paths (ML):\", mean_length)\n",
    "print(\"Mean Proportional Length (MPL):\", mpl)\n",
    "print(\"Total Number of Edges:\", total_edges)"
   ]
  },
  {
   "cell_type": "code",
   "execution_count": 82,
   "id": "fddc88ef",
   "metadata": {},
   "outputs": [
    {
     "name": "stdout",
     "output_type": "stream",
     "text": [
      "Maximum Flow: 24\n",
      "Number of Augmenting Paths: 15\n",
      "Average Length of Augmenting Paths (ML): 10.133333333333333\n",
      "Mean Proportional Length (MPL): 1.6888888888888889\n",
      "Total Number of Edges: 4523\n"
     ]
    }
   ],
   "source": [
    "V, E, capacities, source, sink, longest_path = generate_sink_source_graph(200, 0.3, 2)\n",
    "longest_path_length = len(longest_path)\n",
    "max_flow, paths, mean_length, mpl, total_edges = ford_fulkerson_maxcap(V, capacities, source, sink, longest_path_length)\n",
    "print(\"Maximum Flow:\", max_flow)\n",
    "print(\"Number of Augmenting Paths:\", paths)\n",
    "print(\"Average Length of Augmenting Paths (ML):\", mean_length)\n",
    "print(\"Mean Proportional Length (MPL):\", mpl)\n",
    "print(\"Total Number of Edges:\", total_edges)"
   ]
  },
  {
   "cell_type": "code",
   "execution_count": 83,
   "id": "8de25afd",
   "metadata": {},
   "outputs": [
    {
     "name": "stdout",
     "output_type": "stream",
     "text": [
      "Maximum Flow: 27\n",
      "Number of Augmenting Paths: 2\n",
      "Average Length of Augmenting Paths (ML): 10.0\n",
      "Mean Proportional Length (MPL): 1.1111111111111112\n",
      "Total Number of Edges: 559\n"
     ]
    }
   ],
   "source": [
    "V, E, capacities, source, sink, longest_path = generate_sink_source_graph(100, 0.2, 50)\n",
    "longest_path_length = len(longest_path)\n",
    "max_flow, paths, mean_length, mpl, total_edges = ford_fulkerson_maxcap(V, capacities, source, sink, longest_path_length)\n",
    "print(\"Maximum Flow:\", max_flow)\n",
    "print(\"Number of Augmenting Paths:\", paths)\n",
    "print(\"Average Length of Augmenting Paths (ML):\", mean_length)\n",
    "print(\"Mean Proportional Length (MPL):\", mpl)\n",
    "print(\"Total Number of Edges:\", total_edges)"
   ]
  },
  {
   "cell_type": "code",
   "execution_count": 84,
   "id": "6743cf24",
   "metadata": {},
   "outputs": [
    {
     "name": "stdout",
     "output_type": "stream",
     "text": [
      "Maximum Flow: 78\n",
      "Number of Augmenting Paths: 6\n",
      "Average Length of Augmenting Paths (ML): 21.0\n",
      "Mean Proportional Length (MPL): 2.3333333333333335\n",
      "Total Number of Edges: 2098\n"
     ]
    }
   ],
   "source": [
    "V, E, capacities, source, sink, longest_path = generate_sink_source_graph(200, 0.2, 50)\n",
    "longest_path_length = len(longest_path)\n",
    "max_flow, paths, mean_length, mpl, total_edges = ford_fulkerson_maxcap(V, capacities, source, sink, longest_path_length)\n",
    "print(\"Maximum Flow:\", max_flow)\n",
    "print(\"Number of Augmenting Paths:\", paths)\n",
    "print(\"Average Length of Augmenting Paths (ML):\", mean_length)\n",
    "print(\"Mean Proportional Length (MPL):\", mpl)\n",
    "print(\"Total Number of Edges:\", total_edges)"
   ]
  },
  {
   "cell_type": "code",
   "execution_count": 85,
   "id": "6e153eb5",
   "metadata": {},
   "outputs": [
    {
     "name": "stdout",
     "output_type": "stream",
     "text": [
      "Maximum Flow: 62\n",
      "Number of Augmenting Paths: 2\n",
      "Average Length of Augmenting Paths (ML): 8.5\n",
      "Mean Proportional Length (MPL): 1.4166666666666667\n",
      "Total Number of Edges: 1117\n"
     ]
    }
   ],
   "source": [
    "V, E, capacities, source, sink, longest_path = generate_sink_source_graph(100, 0.3, 50)\n",
    "longest_path_length = len(longest_path)\n",
    "max_flow, paths, mean_length, mpl, total_edges = ford_fulkerson_maxcap(V, capacities, source, sink, longest_path_length)\n",
    "print(\"Maximum Flow:\", max_flow)\n",
    "print(\"Number of Augmenting Paths:\", paths)\n",
    "print(\"Average Length of Augmenting Paths (ML):\", mean_length)\n",
    "print(\"Mean Proportional Length (MPL):\", mpl)\n",
    "print(\"Total Number of Edges:\", total_edges)"
   ]
  },
  {
   "cell_type": "code",
   "execution_count": 86,
   "id": "92433745",
   "metadata": {},
   "outputs": [
    {
     "name": "stdout",
     "output_type": "stream",
     "text": [
      "Maximum Flow: 318\n",
      "Number of Augmenting Paths: 18\n",
      "Average Length of Augmenting Paths (ML): 11.444444444444445\n",
      "Mean Proportional Length (MPL): 1.6349206349206349\n",
      "Total Number of Edges: 4108\n"
     ]
    }
   ],
   "source": [
    "V, E, capacities, source, sink, longest_path = generate_sink_source_graph(200, 0.3, 50)\n",
    "longest_path_length = len(longest_path)\n",
    "max_flow, paths, mean_length, mpl, total_edges = ford_fulkerson_maxcap(V, capacities, source, sink, longest_path_length)\n",
    "print(\"Maximum Flow:\", max_flow)\n",
    "print(\"Number of Augmenting Paths:\", paths)\n",
    "print(\"Average Length of Augmenting Paths (ML):\", mean_length)\n",
    "print(\"Mean Proportional Length (MPL):\", mpl)\n",
    "print(\"Total Number of Edges:\", total_edges)"
   ]
  },
  {
   "cell_type": "markdown",
   "id": "7532de9a",
   "metadata": {},
   "source": [
    "Augmenting Path using Random DFS like algorithm"
   ]
  },
  {
   "cell_type": "code",
   "execution_count": 63,
   "id": "7e145469",
   "metadata": {},
   "outputs": [],
   "source": [
    "def random_dfs(graph, capacities, flow, start, end):\n",
    "    n = len(graph)\n",
    "    visited = [False] * n\n",
    "    parent = [-1] * n\n",
    "\n",
    "    def dfs(u):\n",
    "        visited[u] = True\n",
    "        if u == end:\n",
    "            return True\n",
    "        neighbors = [v for v in range(n) if capacities.get((u, v), 0) - flow[u][v] > 0]\n",
    "        random.shuffle(neighbors)  # Randomize the order of neighbors\n",
    "        for v in neighbors:\n",
    "            if not visited[v]:\n",
    "                parent[v] = u\n",
    "                if dfs(v):\n",
    "                    return True\n",
    "        return False\n",
    "\n",
    "    path_found = dfs(start)\n",
    "    return parent, path_found\n",
    "\n",
    "def ford_fulkerson_random(graph, capacities, source, sink, longest_path_length):\n",
    "    n = len(graph)\n",
    "    flow = [[0 for _ in range(n)] for _ in range(n)]\n",
    "    paths = 0\n",
    "    total_path_length = 0\n",
    "    max_flow = 0\n",
    "\n",
    "    while True:\n",
    "        parent, found = random_dfs(graph, capacities, flow, source, sink)\n",
    "\n",
    "        if not found:\n",
    "            break\n",
    "\n",
    "        path_flow = float('inf')\n",
    "        s = sink\n",
    "        path_length = 0\n",
    "        while s != source:\n",
    "            path_flow = min(path_flow, capacities.get((parent[s], s), 0) - flow[parent[s]][s])\n",
    "            s = parent[s]\n",
    "            path_length += 1\n",
    "\n",
    "        v = sink\n",
    "        while v != source:\n",
    "            u = parent[v]\n",
    "            flow[u][v] += path_flow\n",
    "            flow[v][u] -= path_flow\n",
    "            v = parent[v]\n",
    "\n",
    "        max_flow += path_flow\n",
    "        paths += 1\n",
    "        total_path_length += path_length\n",
    "\n",
    "    mean_length = total_path_length / paths if paths > 0 else 0\n",
    "    mpl = mean_length / longest_path_length if longest_path_length > 0 else 0\n",
    "    total_edges = len(capacities)\n",
    "    return max_flow, paths, mean_length, mpl, total_edges"
   ]
  },
  {
   "cell_type": "code",
   "execution_count": 87,
   "id": "06be4893",
   "metadata": {},
   "outputs": [
    {
     "name": "stdout",
     "output_type": "stream",
     "text": [
      "Maximum Flow: 3\n",
      "Number of Augmenting Paths: 3\n",
      "Average Length of Augmenting Paths (ML): 36.333333333333336\n",
      "Mean Proportional Length (MPL): 3.303030303030303\n",
      "Total Number of Edges: 508\n"
     ]
    }
   ],
   "source": [
    "V, E, capacities, source, sink, longest_path = generate_sink_source_graph(100, 0.2, 2)\n",
    "longest_path_length = len(longest_path)\n",
    "max_flow, paths, mean_length, mpl, total_edges = ford_fulkerson_random(V, capacities, source, sink, longest_path_length)\n",
    "print(\"Maximum Flow:\", max_flow)\n",
    "print(\"Number of Augmenting Paths:\", paths)\n",
    "print(\"Average Length of Augmenting Paths (ML):\", mean_length)\n",
    "print(\"Mean Proportional Length (MPL):\", mpl)\n",
    "print(\"Total Number of Edges:\", total_edges)\n"
   ]
  },
  {
   "cell_type": "code",
   "execution_count": 88,
   "id": "d3638346",
   "metadata": {},
   "outputs": [
    {
     "name": "stdout",
     "output_type": "stream",
     "text": [
      "Maximum Flow: 5\n",
      "Number of Augmenting Paths: 5\n",
      "Average Length of Augmenting Paths (ML): 91.0\n",
      "Mean Proportional Length (MPL): 9.1\n",
      "Total Number of Edges: 2177\n"
     ]
    }
   ],
   "source": [
    "V, E, capacities, source, sink, longest_path = generate_sink_source_graph(200, 0.2, 2)\n",
    "longest_path_length = len(longest_path)\n",
    "max_flow, paths, mean_length, mpl, total_edges = ford_fulkerson_random(V, capacities, source, sink, longest_path_length)\n",
    "print(\"Maximum Flow:\", max_flow)\n",
    "print(\"Number of Augmenting Paths:\", paths)\n",
    "print(\"Average Length of Augmenting Paths (ML):\", mean_length)\n",
    "print(\"Mean Proportional Length (MPL):\", mpl)\n",
    "print(\"Total Number of Edges:\", total_edges)\n"
   ]
  },
  {
   "cell_type": "code",
   "execution_count": 89,
   "id": "7cd6d3be",
   "metadata": {},
   "outputs": [
    {
     "name": "stdout",
     "output_type": "stream",
     "text": [
      "Maximum Flow: 15\n",
      "Number of Augmenting Paths: 15\n",
      "Average Length of Augmenting Paths (ML): 61.13333333333333\n",
      "Mean Proportional Length (MPL): 10.188888888888888\n",
      "Total Number of Edges: 1029\n"
     ]
    }
   ],
   "source": [
    "V, E, capacities, source, sink, longest_path = generate_sink_source_graph(100, 0.3, 2)\n",
    "longest_path_length = len(longest_path)\n",
    "max_flow, paths, mean_length, mpl, total_edges = ford_fulkerson_random(V, capacities, source, sink, longest_path_length)\n",
    "print(\"Maximum Flow:\", max_flow)\n",
    "print(\"Number of Augmenting Paths:\", paths)\n",
    "print(\"Average Length of Augmenting Paths (ML):\", mean_length)\n",
    "print(\"Mean Proportional Length (MPL):\", mpl)\n",
    "print(\"Total Number of Edges:\", total_edges)\n"
   ]
  },
  {
   "cell_type": "code",
   "execution_count": 90,
   "id": "37b2717d",
   "metadata": {},
   "outputs": [
    {
     "name": "stdout",
     "output_type": "stream",
     "text": [
      "Maximum Flow: 5\n",
      "Number of Augmenting Paths: 5\n",
      "Average Length of Augmenting Paths (ML): 130.8\n",
      "Mean Proportional Length (MPL): 21.8\n",
      "Total Number of Edges: 3987\n"
     ]
    }
   ],
   "source": [
    "V, E, capacities, source, sink, longest_path = generate_sink_source_graph(200, 0.3, 2)\n",
    "longest_path_length = len(longest_path)\n",
    "max_flow, paths, mean_length, mpl, total_edges = ford_fulkerson_random(V, capacities, source, sink, longest_path_length)\n",
    "print(\"Maximum Flow:\", max_flow)\n",
    "print(\"Number of Augmenting Paths:\", paths)\n",
    "print(\"Average Length of Augmenting Paths (ML):\", mean_length)\n",
    "print(\"Mean Proportional Length (MPL):\", mpl)\n",
    "print(\"Total Number of Edges:\", total_edges)\n"
   ]
  },
  {
   "cell_type": "code",
   "execution_count": 91,
   "id": "98a82e8e",
   "metadata": {},
   "outputs": [
    {
     "name": "stdout",
     "output_type": "stream",
     "text": [
      "Maximum Flow: 37\n",
      "Number of Augmenting Paths: 32\n",
      "Average Length of Augmenting Paths (ML): 45.34375\n",
      "Mean Proportional Length (MPL): 4.122159090909091\n",
      "Total Number of Edges: 544\n"
     ]
    }
   ],
   "source": [
    "V, E, capacities, source, sink, longest_path = generate_sink_source_graph(100, 0.2, 50)\n",
    "longest_path_length = len(longest_path)\n",
    "max_flow, paths, mean_length, mpl, total_edges = ford_fulkerson_random(V, capacities, source, sink, longest_path_length)\n",
    "print(\"Maximum Flow:\", max_flow)\n",
    "print(\"Number of Augmenting Paths:\", paths)\n",
    "print(\"Average Length of Augmenting Paths (ML):\", mean_length)\n",
    "print(\"Mean Proportional Length (MPL):\", mpl)\n",
    "print(\"Total Number of Edges:\", total_edges)\n"
   ]
  },
  {
   "cell_type": "code",
   "execution_count": 92,
   "id": "9f76ad21",
   "metadata": {},
   "outputs": [
    {
     "name": "stdout",
     "output_type": "stream",
     "text": [
      "Maximum Flow: 92\n",
      "Number of Augmenting Paths: 91\n",
      "Average Length of Augmenting Paths (ML): 128.4065934065934\n",
      "Mean Proportional Length (MPL): 12.84065934065934\n",
      "Total Number of Edges: 2105\n"
     ]
    }
   ],
   "source": [
    "V, E, capacities, source, sink, longest_path = generate_sink_source_graph(200, 0.2, 50)\n",
    "longest_path_length = len(longest_path)\n",
    "max_flow, paths, mean_length, mpl, total_edges = ford_fulkerson_random(V, capacities, source, sink, longest_path_length)\n",
    "print(\"Maximum Flow:\", max_flow)\n",
    "print(\"Number of Augmenting Paths:\", paths)\n",
    "print(\"Average Length of Augmenting Paths (ML):\", mean_length)\n",
    "print(\"Mean Proportional Length (MPL):\", mpl)\n",
    "print(\"Total Number of Edges:\", total_edges)\n"
   ]
  },
  {
   "cell_type": "code",
   "execution_count": 93,
   "id": "db7b615a",
   "metadata": {},
   "outputs": [
    {
     "name": "stdout",
     "output_type": "stream",
     "text": [
      "Maximum Flow: 298\n",
      "Number of Augmenting Paths: 293\n",
      "Average Length of Augmenting Paths (ML): 64.76450511945393\n",
      "Mean Proportional Length (MPL): 10.794084186575654\n",
      "Total Number of Edges: 1008\n"
     ]
    }
   ],
   "source": [
    "V, E, capacities, source, sink, longest_path = generate_sink_source_graph(100, 0.3, 50)\n",
    "longest_path_length = len(longest_path)\n",
    "max_flow, paths, mean_length, mpl, total_edges = ford_fulkerson_random(V, capacities, source, sink, longest_path_length)\n",
    "print(\"Maximum Flow:\", max_flow)\n",
    "print(\"Number of Augmenting Paths:\", paths)\n",
    "print(\"Average Length of Augmenting Paths (ML):\", mean_length)\n",
    "print(\"Mean Proportional Length (MPL):\", mpl)\n",
    "print(\"Total Number of Edges:\", total_edges)\n"
   ]
  },
  {
   "cell_type": "code",
   "execution_count": 94,
   "id": "b509cc4e",
   "metadata": {},
   "outputs": [
    {
     "name": "stdout",
     "output_type": "stream",
     "text": [
      "Maximum Flow: 127\n",
      "Number of Augmenting Paths: 125\n",
      "Average Length of Augmenting Paths (ML): 147.208\n",
      "Mean Proportional Length (MPL): 21.029714285714284\n",
      "Total Number of Edges: 4283\n"
     ]
    }
   ],
   "source": [
    "V, E, capacities, source, sink, longest_path = generate_sink_source_graph(200, 0.3, 50)\n",
    "longest_path_length = len(longest_path)\n",
    "max_flow, paths, mean_length, mpl, total_edges = ford_fulkerson_random(V, capacities, source, sink, longest_path_length)\n",
    "print(\"Maximum Flow:\", max_flow)\n",
    "print(\"Number of Augmenting Paths:\", paths)\n",
    "print(\"Average Length of Augmenting Paths (ML):\", mean_length)\n",
    "print(\"Mean Proportional Length (MPL):\", mpl)\n",
    "print(\"Total Number of Edges:\", total_edges)\n"
   ]
  },
  {
   "cell_type": "code",
   "execution_count": null,
   "id": "35fba4e8",
   "metadata": {},
   "outputs": [],
   "source": []
  },
  {
   "cell_type": "markdown",
   "id": "4dd8429b",
   "metadata": {},
   "source": [
    "Trying the algorithms for different values of n and r"
   ]
  },
  {
   "cell_type": "code",
   "execution_count": 98,
   "id": "7de6f8e1",
   "metadata": {},
   "outputs": [
    {
     "name": "stdout",
     "output_type": "stream",
     "text": [
      "SAP\n",
      "Maximum Flow: 799\n",
      "Number of Augmenting Paths: 59\n",
      "Average Length of Augmenting Paths (ML): 2.5762711864406778\n",
      "Mean Proportional Length (MPL): 0.6440677966101694\n",
      "Total Number of Edges: 1199\n",
      "DFS like\n",
      "Maximum Flow: 799\n",
      "Number of Augmenting Paths: 91\n",
      "Average Length of Augmenting Paths (ML): 4.538461538461538\n",
      "Mean Proportional Length (MPL): 1.1346153846153846\n",
      "Total Number of Edges: 1199\n",
      "Max Cap\n",
      "Maximum Flow: 799\n",
      "Number of Augmenting Paths: 35\n",
      "Average Length of Augmenting Paths (ML): 4.057142857142857\n",
      "Mean Proportional Length (MPL): 1.0142857142857142\n",
      "Total Number of Edges: 1199\n",
      "Random\n",
      "Maximum Flow: 799\n",
      "Number of Augmenting Paths: 511\n",
      "Average Length of Augmenting Paths (ML): 32.234833659491194\n",
      "Mean Proportional Length (MPL): 8.058708414872799\n",
      "Total Number of Edges: 1199\n"
     ]
    }
   ],
   "source": [
    "V, E, capacities, source, sink, longest_path = generate_sink_source_graph(50, 1, 50)\n",
    "longest_path_length = len(longest_path)\n",
    "max_flow, paths, mean_length, total_edges, mpl = ford_fulkerson_sap(V, capacities, source, sink, longest_path_length)\n",
    "longest_path_length = len(longest_path)\n",
    "print(\"SAP\")\n",
    "print(\"Maximum Flow:\", max_flow)\n",
    "print(\"Number of Augmenting Paths:\", paths)\n",
    "print(\"Average Length of Augmenting Paths (ML):\", mean_length)\n",
    "print(\"Mean Proportional Length (MPL):\", mpl)\n",
    "print(\"Total Number of Edges:\", total_edges)\n",
    "max_flow, paths, mean_length, mpl, total_edges = ford_fulkerson_dfs_like(V, capacities, source, sink, longest_path_length)\n",
    "print(\"DFS like\")\n",
    "print(\"Maximum Flow:\", max_flow)\n",
    "print(\"Number of Augmenting Paths:\", paths)\n",
    "print(\"Average Length of Augmenting Paths (ML):\", mean_length)\n",
    "print(\"Mean Proportional Length (MPL):\", mpl)\n",
    "print(\"Total Number of Edges:\", total_edges)\n",
    "max_flow, paths, mean_length, mpl, total_edges = ford_fulkerson_maxcap(V, capacities, source, sink, longest_path_length)\n",
    "print(\"Max Cap\")\n",
    "print(\"Maximum Flow:\", max_flow)\n",
    "print(\"Number of Augmenting Paths:\", paths)\n",
    "print(\"Average Length of Augmenting Paths (ML):\", mean_length)\n",
    "print(\"Mean Proportional Length (MPL):\", mpl)\n",
    "print(\"Total Number of Edges:\", total_edges)\n",
    "max_flow, paths, mean_length, mpl, total_edges = ford_fulkerson_random(V, capacities, source, sink, longest_path_length)\n",
    "print(\"Random\")\n",
    "print(\"Maximum Flow:\", max_flow)\n",
    "print(\"Number of Augmenting Paths:\", paths)\n",
    "print(\"Average Length of Augmenting Paths (ML):\", mean_length)\n",
    "print(\"Mean Proportional Length (MPL):\", mpl)\n",
    "print(\"Total Number of Edges:\", total_edges)"
   ]
  },
  {
   "cell_type": "code",
   "execution_count": 96,
   "id": "8f6ec7d8",
   "metadata": {},
   "outputs": [
    {
     "name": "stdout",
     "output_type": "stream",
     "text": [
      "SAP\n",
      "Maximum Flow: 564\n",
      "Number of Augmenting Paths: 51\n",
      "Average Length of Augmenting Paths (ML): 2.843137254901961\n",
      "Mean Proportional Length (MPL): 0.7107843137254902\n",
      "Total Number of Edges: 1225\n",
      "DFS like\n",
      "Maximum Flow: 564\n",
      "Number of Augmenting Paths: 65\n",
      "Average Length of Augmenting Paths (ML): 4.538461538461538\n",
      "Mean Proportional Length (MPL): 1.1346153846153846\n",
      "Total Number of Edges: 1225\n",
      "Max Cap\n",
      "Maximum Flow: 564\n",
      "Number of Augmenting Paths: 28\n",
      "Average Length of Augmenting Paths (ML): 4.214285714285714\n",
      "Mean Proportional Length (MPL): 1.0535714285714286\n",
      "Total Number of Edges: 1225\n",
      "Random\n",
      "Maximum Flow: 564\n",
      "Number of Augmenting Paths: 422\n",
      "Average Length of Augmenting Paths (ML): 34.95023696682465\n",
      "Mean Proportional Length (MPL): 8.737559241706162\n",
      "Total Number of Edges: 1225\n"
     ]
    }
   ],
   "source": [
    "V, E, capacities, source, sink, longest_path = generate_sink_source_graph(50, 2, 50)\n",
    "longest_path_length = len(longest_path)\n",
    "max_flow, paths, mean_length, total_edges, mpl = ford_fulkerson_sap(V, capacities, source, sink, longest_path_length)\n",
    "longest_path_length = len(longest_path)\n",
    "print(\"SAP\")\n",
    "print(\"Maximum Flow:\", max_flow)\n",
    "print(\"Number of Augmenting Paths:\", paths)\n",
    "print(\"Average Length of Augmenting Paths (ML):\", mean_length)\n",
    "print(\"Mean Proportional Length (MPL):\", mpl)\n",
    "print(\"Total Number of Edges:\", total_edges)\n",
    "max_flow, paths, mean_length, mpl, total_edges = ford_fulkerson_dfs_like(V, capacities, source, sink, longest_path_length)\n",
    "print(\"DFS like\")\n",
    "print(\"Maximum Flow:\", max_flow)\n",
    "print(\"Number of Augmenting Paths:\", paths)\n",
    "print(\"Average Length of Augmenting Paths (ML):\", mean_length)\n",
    "print(\"Mean Proportional Length (MPL):\", mpl)\n",
    "print(\"Total Number of Edges:\", total_edges)\n",
    "max_flow, paths, mean_length, mpl, total_edges = ford_fulkerson_maxcap(V, capacities, source, sink, longest_path_length)\n",
    "print(\"Max Cap\")\n",
    "print(\"Maximum Flow:\", max_flow)\n",
    "print(\"Number of Augmenting Paths:\", paths)\n",
    "print(\"Average Length of Augmenting Paths (ML):\", mean_length)\n",
    "print(\"Mean Proportional Length (MPL):\", mpl)\n",
    "print(\"Total Number of Edges:\", total_edges)\n",
    "max_flow, paths, mean_length, mpl, total_edges = ford_fulkerson_random(V, capacities, source, sink, longest_path_length)\n",
    "print(\"Random\")\n",
    "print(\"Maximum Flow:\", max_flow)\n",
    "print(\"Number of Augmenting Paths:\", paths)\n",
    "print(\"Average Length of Augmenting Paths (ML):\", mean_length)\n",
    "print(\"Mean Proportional Length (MPL):\", mpl)\n",
    "print(\"Total Number of Edges:\", total_edges)"
   ]
  },
  {
   "cell_type": "code",
   "execution_count": null,
   "id": "c90d75c4",
   "metadata": {},
   "outputs": [],
   "source": []
  }
 ],
 "metadata": {
  "kernelspec": {
   "display_name": "Python 3 (ipykernel)",
   "language": "python",
   "name": "python3"
  },
  "language_info": {
   "codemirror_mode": {
    "name": "ipython",
    "version": 3
   },
   "file_extension": ".py",
   "mimetype": "text/x-python",
   "name": "python",
   "nbconvert_exporter": "python",
   "pygments_lexer": "ipython3",
   "version": "3.9.12"
  }
 },
 "nbformat": 4,
 "nbformat_minor": 5
}
